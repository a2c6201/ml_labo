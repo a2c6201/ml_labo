{
 "cells": [
  {
   "cell_type": "code",
   "execution_count": 3,
   "id": "c0768e6b",
   "metadata": {},
   "outputs": [],
   "source": [
    "import cv2\n",
    "import enum "
   ]
  },
  {
   "cell_type": "code",
   "execution_count": 4,
   "id": "5de5f520",
   "metadata": {},
   "outputs": [],
   "source": [
    "img = cv2.imread('IMG_4776.jpg', 0) "
   ]
  },
  {
   "cell_type": "code",
   "execution_count": 5,
   "id": "f0906abd",
   "metadata": {},
   "outputs": [],
   "source": [
    "def bgr8_to_jpeg(value, quality=75): \n",
    "    return bytes(cv2.imencode('.jpg', value)[1])"
   ]
  },
  {
   "cell_type": "markdown",
   "id": "7ad7dd7f",
   "metadata": {},
   "source": [
    "### 次回までにipywidgets調べておく"
   ]
  },
  {
   "cell_type": "code",
   "execution_count": 7,
   "id": "496191fd",
   "metadata": {},
   "outputs": [
    {
     "data": {
      "application/vnd.jupyter.widget-view+json": {
       "model_id": "f97db397c92c4204af4ac3eda9ccee3f",
       "version_major": 2,
       "version_minor": 0
      },
      "text/plain": [
       "Image(value=b'', format='jpg', height='800', width='800')"
      ]
     },
     "metadata": {},
     "output_type": "display_data"
    }
   ],
   "source": [
    "import ipywidgets.widgets as widgets\n",
    "image_widget = widgets.Image(format='jpg', width=800, height=800)\n",
    "\n",
    "display(image_widget)\n",
    "\n",
    "image_widget.value = bgr8_to_jpeg(img)"
   ]
  },
  {
   "cell_type": "code",
   "execution_count": null,
   "id": "c6478b53",
   "metadata": {},
   "outputs": [],
   "source": []
  },
  {
   "cell_type": "code",
   "execution_count": 2,
   "id": "b6e5d282",
   "metadata": {},
   "outputs": [
    {
     "data": {
      "application/vnd.jupyter.widget-view+json": {
       "model_id": "62101e14e9344380b8ebd0b0c72325b3",
       "version_major": 2,
       "version_minor": 0
      },
      "text/plain": [
       "interactive(children=(IntSlider(value=0, description='d: ', layout=Layout(width='400px'), max=500, min=-500), …"
      ]
     },
     "execution_count": 2,
     "metadata": {},
     "output_type": "execute_result"
    }
   ],
   "source": [
    "import cv2\n",
    "from IPython.display import Image, display\n",
    "from ipywidgets import widgets\n",
    "\n",
    "def imshow(img):\n",
    "    \"\"\"画像をJupyter Notebook上に表示する。\"\"\"\n",
    "    _, encoded = cv2.imencode(\".jpg\", img)\n",
    "    display(Image(encoded))\n",
    "\n",
    "def execute(d, sigmaColor, sigmaSpace):\n",
    "    print('d: ' + str(d))\n",
    "    print('sigmaColor: ' + str(sigmaColor))\n",
    "    print('sigmaSpace: ' + str(sigmaSpace))\n",
    "\n",
    "    img_blur = cv2.bilateralFilter(img, d, sigmaColor, sigmaSpace)\n",
    "    imshow(img_blur)\n",
    "\n",
    "# imread : 画像ファイルを読み込んで、多次元配列(numpy.ndarray)にする。\n",
    "# imreadについて : https://kuroro.blog/python/wqh9VIEmRXS4ZAA7C4wd/\n",
    "# 第一引数 : 画像のファイルパス\n",
    "# 戻り値 : 多次元配列(numpy.ndarray)が返される。\n",
    "# ※ 画像を設定ください。\n",
    "img = cv2.imread(\"IMG_4776.jpg\")\n",
    "\n",
    "# 部品情報を格納する。\n",
    "parts = {}\n",
    "\n",
    "# bilateralFilterの第二引数を調整するスライダー\n",
    "# 参考 : https://ipywidgets.readthedocs.io/en/latest/examples/Widget%20List.html?highlight=IntSlider#IntSlider\n",
    "# min : 第二引数の最小値\n",
    "# mix : 第二引数の最大値\n",
    "# step : 第二引数の増減値\n",
    "# value : 第二引数の初期値\n",
    "# description : スライダーの説明文\n",
    "parts[\"d\"] = widgets.IntSlider(\n",
    "    min=-500,\n",
    "    max=500,\n",
    "    step=1,\n",
    "    value=0,\n",
    "    description=\"d: \"\n",
    ")\n",
    "\n",
    "# bilateralFilterの第三引数を調整するスライダー\n",
    "# 参考 : https://ipywidgets.readthedocs.io/en/latest/examples/Widget%20List.html?highlight=IntSlider#FloatSlider\n",
    "# min : 第三引数の最小値\n",
    "# mix : 第三引数の最大値\n",
    "# step : 第三引数の増減値\n",
    "# value : 第三引数の初期値\n",
    "# description : スライダーの説明文\n",
    "parts[\"sigmaColor\"] = widgets.FloatSlider(\n",
    "    min=-100,\n",
    "    max=100,\n",
    "    step=1.5,\n",
    "    value=0,\n",
    "    description=\"sigmaColor: \"\n",
    ")\n",
    "\n",
    "# bilateralFilterの第四引数を調整するスライダー\n",
    "# 参考 : https://ipywidgets.readthedocs.io/en/latest/examples/Widget%20List.html?highlight=IntSlider#FloatSlider\n",
    "# min : 第三引数の最小値\n",
    "# mix : 第三引数の最大値\n",
    "# step : 第三引数の増減値\n",
    "# value : 第三引数の初期値\n",
    "# description : スライダーの説明文\n",
    "parts[\"sigmaSpace\"] = widgets.FloatSlider(\n",
    "    min=-500,\n",
    "    max=500,\n",
    "    step=3.5,\n",
    "    value=0,\n",
    "    description=\"sigmaSpace: \"\n",
    ")\n",
    "\n",
    "# 部品の大きさを設定する。\n",
    "for part in parts.values():\n",
    "    part.layout.width = \"400px\"\n",
    "\n",
    "widgets.interactive(execute, **parts)"
   ]
  }
 ],
 "metadata": {
  "kernelspec": {
   "display_name": "Python 3.8.16 ('python38')",
   "language": "python",
   "name": "python3"
  },
  "language_info": {
   "codemirror_mode": {
    "name": "ipython",
    "version": 3
   },
   "file_extension": ".py",
   "mimetype": "text/x-python",
   "name": "python",
   "nbconvert_exporter": "python",
   "pygments_lexer": "ipython3",
   "version": "3.8.16"
  },
  "vscode": {
   "interpreter": {
    "hash": "cf3aa0bffeea93ff83d13802fe7be8b6c4c146d00d4ac171237431777d5e8300"
   }
  }
 },
 "nbformat": 4,
 "nbformat_minor": 5
}
