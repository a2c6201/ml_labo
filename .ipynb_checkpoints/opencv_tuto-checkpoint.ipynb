{
 "cells": [
  {
   "cell_type": "code",
   "execution_count": 2,
   "id": "c0768e6b",
   "metadata": {},
   "outputs": [],
   "source": [
    "import cv2\n",
    "import enum "
   ]
  },
  {
   "cell_type": "code",
   "execution_count": 7,
   "id": "5de5f520",
   "metadata": {},
   "outputs": [],
   "source": [
    "img = cv2.imread('IMG_4776.jpg', 1) "
   ]
  },
  {
   "cell_type": "code",
   "execution_count": 8,
   "id": "f0906abd",
   "metadata": {},
   "outputs": [],
   "source": [
    "def bgr8_to_jpeg(value, quality=75): \n",
    "    return bytes(cv2.imencode('.jpg', value)[1])"
   ]
  },
  {
   "cell_type": "markdown",
   "id": "7ad7dd7f",
   "metadata": {},
   "source": [
    "### 次回までにipywidgets調べておく"
   ]
  },
  {
   "cell_type": "code",
   "execution_count": 9,
   "id": "496191fd",
   "metadata": {},
   "outputs": [
    {
     "data": {
      "application/vnd.jupyter.widget-view+json": {
       "model_id": "0a7403c8555f4cbf88b8ee7e83861e88",
       "version_major": 2,
       "version_minor": 0
      },
      "text/plain": [
       "Image(value=b'', format='jpg', height='800', width='500')"
      ]
     },
     "metadata": {},
     "output_type": "display_data"
    }
   ],
   "source": [
    "import ipywidgets.widgets as widgets\n",
    "image_widget = widgets.Image(format='jpg', width=500, height=800)\n",
    "\n",
    "display(image_widget)\n",
    "\n",
    "image_widget.value = bgr8_to_jpeg(img)"
   ]
  },
  {
   "cell_type": "code",
   "execution_count": 2,
   "id": "20fa9ce8",
   "metadata": {},
   "outputs": [
    {
     "ename": "error",
     "evalue": "OpenCV(4.6.0) /private/var/folders/nz/j6p8yfhx1mv_0grj5xl4650h0000gp/T/abs_d9lyif19nl/croot/opencv-suite_1676472756314/work/modules/imgcodecs/src/loadsave.cpp:730: error: (-2:Unspecified error) could not find a writer for the specified extension in function 'imwrite_'\n",
     "output_type": "error",
     "traceback": [
      "\u001b[0;31m---------------------------------------------------------------------------\u001b[0m",
      "\u001b[0;31merror\u001b[0m                                     Traceback (most recent call last)",
      "Cell \u001b[0;32mIn[2], line 7\u001b[0m\n\u001b[1;32m      5\u001b[0m img \u001b[38;5;241m=\u001b[39m cv2\u001b[38;5;241m.\u001b[39mimread(\u001b[38;5;124m'\u001b[39m\u001b[38;5;124myahboom.jpg\u001b[39m\u001b[38;5;124m'\u001b[39m, \u001b[38;5;241m0\u001b[39m)\n\u001b[1;32m      6\u001b[0m \u001b[38;5;66;03m# cv2.imshow('yahboom, img)  \u001b[39;00m\n\u001b[0;32m----> 7\u001b[0m \u001b[43mcv2\u001b[49m\u001b[38;5;241;43m.\u001b[39;49m\u001b[43mimwrite\u001b[49m\u001b[43m(\u001b[49m\u001b[38;5;124;43m'\u001b[39;49m\u001b[38;5;124;43myahboom.jpg1\u001b[39;49m\u001b[38;5;124;43m'\u001b[39;49m\u001b[43m,\u001b[49m\u001b[43m \u001b[49m\u001b[43mimg\u001b[49m\u001b[43m)\u001b[49m\n",
      "\u001b[0;31merror\u001b[0m: OpenCV(4.6.0) /private/var/folders/nz/j6p8yfhx1mv_0grj5xl4650h0000gp/T/abs_d9lyif19nl/croot/opencv-suite_1676472756314/work/modules/imgcodecs/src/loadsave.cpp:730: error: (-2:Unspecified error) could not find a writer for the specified extension in function 'imwrite_'\n"
     ]
    }
   ],
   "source": [
    "import cv2\n",
    "# パラメータは最大 4 つ、第 1 パラメータ：ファイルの読み込み、第 2 パラメータ：解析フォーマット解析、\n",
    "# 第 3 パラメータ：データデコード、第 4 パラメータ：データ読み込み\n",
    "\n",
    "img = cv2.imread('yahboom.jpg', 0)\n",
    "# cv2.imshow('yahboom, img)  \n",
    "cv2.imwrite('yahboom.jpg1', img) # 1 name 2 data"
   ]
  },
  {
   "cell_type": "code",
   "execution_count": 14,
   "id": "924ed916",
   "metadata": {},
   "outputs": [],
   "source": [
    "def bgr8_to_jpeg(value,quality=75): \n",
    "    return bytes(cv2.imencode('.jpg', value)[1])"
   ]
  },
  {
   "cell_type": "code",
   "execution_count": 15,
   "id": "c6478b53",
   "metadata": {},
   "outputs": [
    {
     "data": {
      "application/vnd.jupyter.widget-view+json": {
       "model_id": "686d1f9764f242fa9129a4e434ec61a3",
       "version_major": 2,
       "version_minor": 0
      },
      "text/plain": [
       "Image(value=b'', format='jpg', height='240', width='320')"
      ]
     },
     "metadata": {},
     "output_type": "display_data"
    }
   ],
   "source": [
    "import ipywidgets.widgets as widgets\n",
    " \n",
    "image_widget = widgets.Image(format='jpg', width=320, height=240)\n",
    "display(image_widget)\n",
    "img = cv2.imread('yahboom.jpg',1)\n",
    "image_widget.value = bgr8_to_jpeg(img)"
   ]
  }
 ],
 "metadata": {
  "kernelspec": {
   "display_name": "Environment (conda_py39)",
   "language": "python",
   "name": "conda_py39"
  },
  "language_info": {
   "codemirror_mode": {
    "name": "ipython",
    "version": 3
   },
   "file_extension": ".py",
   "mimetype": "text/x-python",
   "name": "python",
   "nbconvert_exporter": "python",
   "pygments_lexer": "ipython3",
   "version": "3.9.16"
  },
  "vscode": {
   "interpreter": {
    "hash": "cf3aa0bffeea93ff83d13802fe7be8b6c4c146d00d4ac171237431777d5e8300"
   }
  }
 },
 "nbformat": 4,
 "nbformat_minor": 5
}
