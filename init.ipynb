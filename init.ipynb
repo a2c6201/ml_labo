{
 "cells": [
  {
   "cell_type": "code",
   "execution_count": 1,
   "id": "06ba668f",
   "metadata": {},
   "outputs": [],
   "source": [
    "import tensorflow as tf"
   ]
  },
  {
   "cell_type": "code",
   "execution_count": 2,
   "id": "92ee9c71",
   "metadata": {},
   "outputs": [
    {
     "name": "stdout",
     "output_type": "stream",
     "text": [
      "2.4.0-rc0\n"
     ]
    }
   ],
   "source": [
    "print(tf.version.VERSION)"
   ]
  },
  {
   "cell_type": "code",
   "execution_count": 21,
   "id": "ca7e4664",
   "metadata": {},
   "outputs": [
    {
     "name": "stdout",
     "output_type": "stream",
     "text": [
      "x= 0.67, y= 0.33\n"
     ]
    }
   ],
   "source": [
    "x=2/3\n",
    "y=1/3\n",
    "print(f'x={x: .2f}, y={y: .2f}')"
   ]
  },
  {
   "cell_type": "markdown",
   "id": "4ba73a41",
   "metadata": {},
   "source": [
    "range型はlistと違い書き変えられない"
   ]
  },
  {
   "cell_type": "code",
   "execution_count": 25,
   "id": "4ef7497c",
   "metadata": {},
   "outputs": [
    {
     "name": "stdout",
     "output_type": "stream",
     "text": [
      "range(0, 5)\n"
     ]
    }
   ],
   "source": [
    "y = range(5)\n",
    "print(y)"
   ]
  },
  {
   "cell_type": "code",
   "execution_count": null,
   "id": "e5386443",
   "metadata": {},
   "outputs": [],
   "source": [
    "z = list(range)"
   ]
  }
 ],
 "metadata": {
  "kernelspec": {
   "display_name": "Python 3.8.16 ('python38')",
   "language": "python",
   "name": "python3"
  },
  "language_info": {
   "codemirror_mode": {
    "name": "ipython",
    "version": 3
   },
   "file_extension": ".py",
   "mimetype": "text/x-python",
   "name": "python",
   "nbconvert_exporter": "python",
   "pygments_lexer": "ipython3",
   "version": "3.8.16"
  },
  "vscode": {
   "interpreter": {
    "hash": "cf3aa0bffeea93ff83d13802fe7be8b6c4c146d00d4ac171237431777d5e8300"
   }
  }
 },
 "nbformat": 4,
 "nbformat_minor": 5
}
