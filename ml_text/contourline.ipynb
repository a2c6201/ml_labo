{
 "cells": [
  {
   "attachments": {},
   "cell_type": "markdown",
   "metadata": {},
   "source": [
    "## 等高線でデザインしてみる"
   ]
  },
  {
   "cell_type": "code",
   "execution_count": 22,
   "metadata": {},
   "outputs": [],
   "source": [
    "# リスト3-3\n",
    "%matplotlib inline\n",
    "import numpy as np\n",
    "import matplotlib.pyplot as plt\n",
    "\n",
    "def f3(x0, x1):\n",
    "    ans = (x0 ** 2 + x1 ** 2) * np.exp(-(9 * x0 ** 2 + x1 ** 2))\n",
    "    return ans"
   ]
  },
  {
   "cell_type": "code",
   "execution_count": 23,
   "metadata": {},
   "outputs": [
    {
     "data": {
      "image/png": "[encoded data removed]",
      "text/plain": [
       "<Figure size 400x400 with 1 Axes>"
      ]
     },
     "metadata": {},
     "output_type": "display_data"
    }
   ],
   "source": [
    "\n",
    "# 3-3-5を書き換える\n",
    "\n",
    "x0_n, x1_n = 50, 50\n",
    "x0 = np.linspace(-2, 5, x0_n)   # [-2, -1.5, -1.0, -0.5, 0, 0.5, 1.0, 1.5, 2.0]\n",
    "x1 = np.linspace(-2, 2, x1_n)\n",
    "\n",
    "xx0, xx1 = np.meshgrid(x0, x1)\n",
    "y = f3(xx0, xx1)                          # grid座標に対するyを求める\n",
    "\n",
    "# グラフを描画していく\n",
    "plt.figure(figsize=(4, 4))\n",
    "\n",
    "# ax.set_zticks((0, 0.3))    # z軸の目盛り指定\n",
    "# ax.view_init(75, -60)   # グラフの向きの指定(第一引数は上下の回転角度、第二引数は正だと時計回り、負の数だと反時計回り)\n",
    "\n",
    "# 上記コードの代わりに\n",
    "cont = plt.contour(\n",
    "    xx0, xx1, y,\n",
    "    levels=3,            # 表示する高さのレベルを3段階にする\n",
    "    colors='black',      # 等高線の色\n",
    ")\n",
    "\n",
    "cont.clabel(fmt='%.2f', fontsize=8)     # 等高線に数値を入れる\n",
    "plt.xlabel('$x_0$', fontsize=14)\n",
    "plt.ylabel('$x_1$', fontsize=14)\n",
    "\n",
    "plt.show()"
   ]
  },
  {
   "cell_type": "code",
   "execution_count": 12,
   "metadata": {},
   "outputs": [],
   "source": [
    "# 生年月日を入力すると数秘術を計算してくれる関数を作成する\n",
    "# 例：1979年1月1日生まれの場合\n",
    "# 1 + 9 + 7 + 9 + 1 + 1 = 28\n",
    "# 2 + 8 = 10\n",
    "# 1 + 0 = 1\n",
    "# 1が数秘術の結果となる\n",
    "%matplotlib inline\n",
    "import numpy as np\n",
    "import matplotlib.pyplot as plt\n",
    "\n",
    "\n",
    "def numerology(birthday):\n",
    "    birthday = str(birthday)\n",
    "    if len(birthday) == 1:\n",
    "        return birthday\n",
    "    else:\n",
    "        birthday = sum([int(i) for i in birthday])\n",
    "        return numerology(birthday)\n",
    "\n",
    "# birthday = input('生年月日を入力してください(例：19790101)：')\n",
    "# print('あなたの数秘術は{}です'.format(numerology(birthday)))\n",
    "\n",
    "def contour_line(x0, x1, num, bday):\n",
    "    ans = (x0 ** num + x1 ** 2) * np.exp(-(bday * x0 ** 2 + x1 ** 2))\n",
    "    return ans\n"
   ]
  },
  {
   "cell_type": "code",
   "execution_count": 16,
   "metadata": {},
   "outputs": [
    {
     "ename": "TypeError",
     "evalue": "'str' object is not callable",
     "output_type": "error",
     "traceback": [
      "\u001b[0;31m---------------------------------------------------------------------------\u001b[0m",
      "\u001b[0;31mTypeError\u001b[0m                                 Traceback (most recent call last)",
      "Cell \u001b[0;32mIn[16], line 11\u001b[0m\n\u001b[1;32m      9\u001b[0m birthday \u001b[39m=\u001b[39m \u001b[39minput\u001b[39m(\u001b[39m'\u001b[39m\u001b[39m生年月日を入力してください(例：19790101)：\u001b[39m\u001b[39m'\u001b[39m)\n\u001b[1;32m     10\u001b[0m birthday \u001b[39m=\u001b[39m \u001b[39mint\u001b[39m(birthday)\n\u001b[0;32m---> 11\u001b[0m y \u001b[39m=\u001b[39m contour_line(xx0, xx1, numerology\u001b[39m=\u001b[39mnumerology(birthday), birthday\u001b[39m=\u001b[39m\u001b[39mint\u001b[39m(birthday))                          \u001b[39m# grid座標に対するyを求める\u001b[39;00m\n\u001b[1;32m     13\u001b[0m \u001b[39m# グラフを描画していく\u001b[39;00m\n\u001b[1;32m     14\u001b[0m plt\u001b[39m.\u001b[39mfigure(figsize\u001b[39m=\u001b[39m(\u001b[39m4\u001b[39m, \u001b[39m4\u001b[39m))\n",
      "\u001b[0;31mTypeError\u001b[0m: 'str' object is not callable"
     ]
    }
   ],
   "source": [
    "\n",
    "# 3-3-5を書き換える\n",
    "\n",
    "x0_n, x1_n = 50, 50\n",
    "x0 = np.linspace(-2, 5, x0_n)   # [-2, -1.5, -1.0, -0.5, 0, 0.5, 1.0, 1.5, 2.0]\n",
    "x1 = np.linspace(-2, 2, x1_n)\n",
    "\n",
    "xx0, xx1 = np.meshgrid(x0, x1)\n",
    "\n",
    "birthday = input('生年月日を入力してください(例：19790101)：')\n",
    "birthday = int(birthday)\n",
    "y = contour_line(xx0, xx1, numerology=numerology(birthday), birthday=int(birthday))                          # grid座標に対するyを求める\n",
    "\n",
    "# グラフを描画していく\n",
    "plt.figure(figsize=(4, 4))\n",
    "\n",
    "# ax.set_zticks((0, 0.3))    # z軸の目盛り指定\n",
    "# ax.view_init(75, -60)   # グラフの向きの指定(第一引数は上下の回転角度、第二引数は正だと時計回り、負の数だと反時計回り)\n",
    "\n",
    "# 上記コードの代わりに\n",
    "cont = plt.contour(\n",
    "    xx0, xx1, y,\n",
    "    levels=3,            # 表示する高さのレベルを3段階にする\n",
    "    colors='black',      # 等高線の色\n",
    ")\n",
    "\n",
    "cont.clabel(fmt='%.2f', fontsize=8)     # 等高線に数値を入れる\n",
    "plt.xlabel('$x_0$', fontsize=14)\n",
    "plt.ylabel('$x_1$', fontsize=14)\n",
    "\n",
    "plt.show()"
   ]
  },
  {
   "cell_type": "code",
   "execution_count": 13,
   "metadata": {},
   "outputs": [
    {
     "name": "stdout",
     "output_type": "stream",
     "text": [
      "numerology: <class 'str'> 1\n",
      "birthday: <class 'str'> 20000620\n"
     ]
    }
   ],
   "source": [
    "birthday = input('生年月日を入力してください(例：19790101)：')\n",
    "\n",
    "numerology = numerology(birthday)\n",
    "print('numerology:', type(numerology), numerology)\n",
    "\n",
    "print('birthday:', type(birthday), birthday)"
   ]
  },
  {
   "cell_type": "code",
   "execution_count": 23,
   "metadata": {},
   "outputs": [
    {
     "name": "stdout",
     "output_type": "stream",
     "text": [
      "float64\n",
      "float64\n"
     ]
    },
    {
     "ename": "TypeError",
     "evalue": "ufunc 'power' not supported for the input types, and the inputs could not be safely coerced to any supported types according to the casting rule ''safe''",
     "output_type": "error",
     "traceback": [
      "\u001b[0;31m---------------------------------------------------------------------------\u001b[0m",
      "\u001b[0;31mTypeError\u001b[0m                                 Traceback (most recent call last)",
      "Cell \u001b[0;32mIn[23], line 28\u001b[0m\n\u001b[1;32m     26\u001b[0m birthday \u001b[39m=\u001b[39m \u001b[39minput\u001b[39m(\u001b[39m'\u001b[39m\u001b[39m生年月日を入力してください(例：19790101)：\u001b[39m\u001b[39m'\u001b[39m)\n\u001b[1;32m     27\u001b[0m birthday \u001b[39m=\u001b[39m \u001b[39mint\u001b[39m(birthday)  \u001b[39m# 入力された値を整数型に変換\u001b[39;00m\n\u001b[0;32m---> 28\u001b[0m y \u001b[39m=\u001b[39m contour_line(xx0, xx1, numerology(birthday))  \u001b[39m# grid座標に対するyを求める\u001b[39;00m\n\u001b[1;32m     30\u001b[0m \u001b[39m# グラフを描画していく\u001b[39;00m\n\u001b[1;32m     31\u001b[0m plt\u001b[39m.\u001b[39mfigure(figsize\u001b[39m=\u001b[39m(\u001b[39m4\u001b[39m, \u001b[39m4\u001b[39m))\n",
      "Cell \u001b[0;32mIn[23], line 14\u001b[0m, in \u001b[0;36mcontour_line\u001b[0;34m(x0, x1, num)\u001b[0m\n\u001b[1;32m     13\u001b[0m \u001b[39mdef\u001b[39;00m \u001b[39mcontour_line\u001b[39m(x0, x1, num):\n\u001b[0;32m---> 14\u001b[0m     ans \u001b[39m=\u001b[39m (x0 \u001b[39m*\u001b[39;49m\u001b[39m*\u001b[39;49m num \u001b[39m+\u001b[39m x1 \u001b[39m*\u001b[39m\u001b[39m*\u001b[39m \u001b[39m2\u001b[39m) \u001b[39m*\u001b[39m np\u001b[39m.\u001b[39mexp(\u001b[39m-\u001b[39m(\u001b[39m2\u001b[39m \u001b[39m*\u001b[39m x0 \u001b[39m*\u001b[39m\u001b[39m*\u001b[39m \u001b[39m2\u001b[39m \u001b[39m+\u001b[39m x1 \u001b[39m*\u001b[39m\u001b[39m*\u001b[39m \u001b[39m2\u001b[39m))\n\u001b[1;32m     15\u001b[0m     \u001b[39mreturn\u001b[39;00m ans\n",
      "\u001b[0;31mTypeError\u001b[0m: ufunc 'power' not supported for the input types, and the inputs could not be safely coerced to any supported types according to the casting rule ''safe''"
     ]
    }
   ],
   "source": [
    "%matplotlib inline\n",
    "import numpy as np\n",
    "import matplotlib.pyplot as plt\n",
    "\n",
    "def numerology(birthday):\n",
    "    birthday = str(birthday)\n",
    "    if len(birthday) == 1:\n",
    "        return birthday\n",
    "    else:\n",
    "        birthday = sum([int(i) for i in birthday])\n",
    "        return numerology(birthday)\n",
    "\n",
    "def contour_line(x0, x1, num):\n",
    "    ans = (x0 ** num + x1 ** 2) * np.exp(-(2 * x0 ** 2 + x1 ** 2))\n",
    "    return ans\n",
    "\n",
    "x0_n, x1_n = 50, 50\n",
    "x0 = np.linspace(-2, 5, x0_n, dtype=float)   # [-2, -1.5, -1.0, -0.5, 0, 0.5, 1.0, 1.5, 2.0]\n",
    "x1 = np.linspace(-2, 2, x1_n, dtype=float)\n",
    "\n",
    "xx0, xx1 = np.meshgrid(x0, x1)\n",
    "\n",
    "print(xx0.dtype)\n",
    "print(xx1.dtype)\n",
    "\n",
    "birthday = input('生年月日を入力してください(例：19790101)：')\n",
    "birthday = int(birthday)  # 入力された値を整数型に変換\n",
    "y = contour_line(xx0, xx1, numerology(birthday))  # grid座標に対するyを求める\n",
    "\n",
    "# グラフを描画していく\n",
    "plt.figure(figsize=(4, 4))\n",
    "\n",
    "cont = plt.contour(\n",
    "    xx0, xx1, y,\n",
    "    levels=3,\n",
    "    colors='black',\n",
    ")\n",
    "\n",
    "cont.clabel(fmt='%.2f', fontsize=8)\n",
    "plt.xlabel('$x_0$', fontsize=14)\n",
    "plt.ylabel('$x_1$', fontsize=14)\n",
    "\n",
    "plt.show()\n"
   ]
  }
 ],
 "metadata": {
  "kernelspec": {
   "display_name": "py39",
   "language": "python",
   "name": "python3"
  },
  "language_info": {
   "codemirror_mode": {
    "name": "ipython",
    "version": 3
   },
   "file_extension": ".py",
   "mimetype": "text/x-python",
   "name": "python",
   "nbconvert_exporter": "python",
   "pygments_lexer": "ipython3",
   "version": "3.9.16"
  },
  "orig_nbformat": 4
 },
 "nbformat": 4,
 "nbformat_minor": 2
}
