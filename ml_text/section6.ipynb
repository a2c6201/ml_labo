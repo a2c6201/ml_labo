{
 "cells": [
  {
   "cell_type": "markdown",
   "metadata": {},
   "source": [
    "# 6.1: 1次元入力2クラス分類"
   ]
  },
  {
   "cell_type": "markdown",
   "metadata": {},
   "source": [
    "## 6.1.1 問題設定"
   ]
  },
  {
   "cell_type": "code",
   "execution_count": 3,
   "metadata": {},
   "outputs": [],
   "source": [
    "%matplotlib inline\n",
    "import numpy as np\n",
    "import matplotlib.pyplot as plt\n",
    "\n",
    "# データ生成\n",
    "np.random.seed(seed=0)  # 乱数を固定\n",
    "X_min, X_max = 0, 2.5   # Xの範囲\n",
    "N = 30                  # データ数\n",
    "col = ['cornflowerblue', 'gray']  # グラフの色\n",
    "X = np.zeros(N)         # 入力データ\n",
    "T = np.zeros(N, dtype=np.uint8)  # 目標データ\n",
    "prm_s = [0.4, 0.8]      # 分布の開始位置\n",
    "prm_w = [0.8, 1.6]      # 分布の幅\n",
    "prm_pi = 0.5            # クラス1の比率"
   ]
  },
  {
   "cell_type": "markdown",
   "metadata": {},
   "source": [
    "## 6.1.4 ロジスティック回帰モデル"
   ]
  },
  {
   "cell_type": "markdown",
   "metadata": {},
   "source": [
    "担当　5.7-5.8\n",
    "\n",
    "5.6-6.1.5まで"
   ]
  },
  {
   "cell_type": "markdown",
   "metadata": {},
   "source": [
    "担当 6.1.7\n",
    "範囲 6.1.6-6.2.2\n",
    "8/1 6.3.1-6.3.2"
   ]
  }
 ],
 "metadata": {
  "kernelspec": {
   "display_name": "py39",
   "language": "python",
   "name": "python3"
  },
  "language_info": {
   "codemirror_mode": {
    "name": "ipython",
    "version": 3
   },
   "file_extension": ".py",
   "mimetype": "text/x-python",
   "name": "python",
   "nbconvert_exporter": "python",
   "pygments_lexer": "ipython3",
   "version": "3.9.16"
  },
  "orig_nbformat": 4
 },
 "nbformat": 4,
 "nbformat_minor": 2
}
