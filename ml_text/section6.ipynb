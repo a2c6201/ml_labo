{
 "cells": [
  {
   "cell_type": "markdown",
   "metadata": {},
   "source": [
    "# 6.1: 1次元入力2クラス分類"
   ]
  },
  {
   "cell_type": "markdown",
   "metadata": {},
   "source": [
    "## 6.1.1 問題設定"
   ]
  },
  {
   "cell_type": "markdown",
   "metadata": {},
   "source": [
    "昆虫の重量と性別の人口データを作成する。"
   ]
  },
  {
   "cell_type": "code",
   "execution_count": 5,
   "metadata": {},
   "outputs": [
    {
     "name": "stdout",
     "output_type": "stream",
     "text": [
      "X =  [1.94 1.67 0.92 1.11 1.41 1.65 2.28 0.47 1.07 2.19 2.08 1.02 0.91 1.16\n",
      " 1.46 1.02 0.85 0.89 1.79 1.89 0.75 0.9  1.87 0.5  0.69 1.5  0.96 0.53\n",
      " 1.21 0.6 ]\n",
      "T =  [1 1 0 0 1 1 1 0 0 1 1 0 0 0 1 0 0 0 1 1 0 1 1 0 0 1 1 0 1 0]\n"
     ]
    }
   ],
   "source": [
    "%matplotlib inline\n",
    "import numpy as np\n",
    "import matplotlib.pyplot as plt\n",
    "\n",
    "# データ生成\n",
    "np.random.seed(seed=0)  # 乱数を固定\n",
    "X_min, X_max = 0, 2.5   # Xの範囲\n",
    "N = 30                  # データ数\n",
    "col = ['cornflowerblue', 'gray']  # グラフの色\n",
    "X = np.zeros(N)         # 入力データ\n",
    "T = np.zeros(N, dtype=np.uint8)  # 目標データ\n",
    "prm_s = [0.4, 0.8]      # 分布の開始位置\n",
    "prm_w = [0.8, 1.6]      # 分布の幅\n",
    "prm_pi = 0.5            # クラス1の比率\n",
    "for n in range(N):\n",
    "    r = np.random.rand()\n",
    "    T[n] = 0 * (r < 0.5) + (r >= prm_pi)\n",
    "    X[n] = prm_s[T[n]] + np.random.rand() * prm_w[T[n]]\n",
    "\n",
    "# データ表示\n",
    "print('X = ', np.round(X, 2))\n",
    "print('T = ', T)\n"
   ]
  },
  {
   "cell_type": "markdown",
   "metadata": {},
   "source": [
    "データの表示"
   ]
  },
  {
   "cell_type": "code",
   "execution_count": 11,
   "metadata": {},
   "outputs": [
    {
     "data": {
      "image/png": "[encoded data removed]",
      "text/plain": [
       "<Figure size 300x300 with 1 Axes>"
      ]
     },
     "metadata": {},
     "output_type": "display_data"
    }
   ],
   "source": [
    "def show_data1d(x, t):\n",
    "    for k in range(2):\n",
    "        plt.plot(\n",
    "            x[t == k], t[t == k], col[k],\n",
    "            alpha = 0.5, linestyle='none', marker='o'\n",
    "        )\n",
    "    plt.xticks(np.arange(0, 3, 0.5))\n",
    "    plt.yticks([0, 1])\n",
    "    plt.xlim(X_min, X_max)\n",
    "    plt.ylim(-0.5, 1.5)\n",
    "\n",
    "# メイン\n",
    "fig = plt.figure(figsize=(3, 3))\n",
    "show_data1d(X, T)\n",
    "plt.grid()\n",
    "plt.show()"
   ]
  },
  {
   "cell_type": "markdown",
   "metadata": {},
   "source": [
    "## 6.1.3 最尤推定"
   ]
  },
  {
   "cell_type": "markdown",
   "metadata": {},
   "source": [
    "### 尤度とは\n",
    "その確率であることの適切さを表したもの\n",
    "\n",
    "例えば、くじを引いたとして、初めの3回は0(ハズレ)、次の1回は1(当たり)という問題を考える。 \\\n",
    "この時、1を引く確率をwとし、w=0.1とすると、 \\\\\n",
    "クラスデータT=0, 0, 0, 1がモデルから生成された確率を尤度という。\\\n",
    "実際に尤度を計算してみると、　\\\n",
    "$ 0.9 × 0.9 × 0.9 × 0.1 = 0.072 $\n",
    "となる\\\n",
    "しかし、w=0.2の時の尤度を計算してみると、\n",
    "$ 0.8 × 0.8 × 0.8 × 0.2 = 0.102 $\n",
    "となり、こちらの方が尤度が高く、尤もらしいと言える"
   ]
  },
  {
   "cell_type": "markdown",
   "metadata": {},
   "source": [
    "### 最尤推定とは\n",
    "尤度が最も高くなる確率wを求めること。\n",
    "\n",
    "上の問題で最尤推定をすると、\\\n",
    "$ P(T=0,0,0,1|x) = (1-w)^3 w $ \\\n",
    "このグラフは、上に凸の形になるため最大値を取る値wが尤もらしい値となり、推定値として扱われる。\n",
    "\n",
    "その後の流れとしては、\n",
    "1. 対数をとる\\\n",
    "  a. 掛け算を足し算にするため\n",
    "2. 微分した値　＝　0で計算する"
   ]
  },
  {
   "cell_type": "markdown",
   "metadata": {},
   "source": [
    "## 6.1.4 ロジスティック回帰モデル"
   ]
  },
  {
   "cell_type": "markdown",
   "metadata": {},
   "source": [
    "ロジスティック回帰モデルは直線の式をシグモイド関数に通したもの。\n",
    "\n",
    "直線の式\n",
    "$$ y = w_0x + w_1 $$\n",
    "ロジスティック回帰モデル\n",
    "$$ σ(w_0x + w_1) = 1 / 1 + exp{-(w_0x + w_1)} $$"
   ]
  },
  {
   "cell_type": "markdown",
   "metadata": {},
   "source": [
    "実際に定義してみる"
   ]
  },
  {
   "cell_type": "code",
   "execution_count": 13,
   "metadata": {},
   "outputs": [],
   "source": [
    "# ロジスティック回帰モデル\n",
    "def logistic(x, w):\n",
    "    y = 1 / (1 + np.exp(-(w[0] * x + w[1])))\n",
    "    return y"
   ]
  },
  {
   "cell_type": "markdown",
   "metadata": {},
   "source": [
    "ロジスティック回帰モデルを表示する関数"
   ]
  },
  {
   "cell_type": "code",
   "execution_count": 14,
   "metadata": {},
   "outputs": [],
   "source": [
    "def show_logistic(w):\n",
    "    x = np.linspace(X_min, X_max, 100)\n",
    "    y = logistic(x, w)\n",
    "    plt.plot(x, y, 'gray', linewidth=4)\n",
    "    # 決定境界\n",
    "    i = np.min(np.where(y > 0.5))\n",
    "    boundary = (x[i - 1] + x[i]) / 2\n",
    "    plt.plot([boundary, boundary], [-0.5, 1.5], 'k--')\n",
    "    plt.grid(True)\n",
    "    return boundary"
   ]
  },
  {
   "cell_type": "markdown",
   "metadata": {},
   "source": [
    "テスト"
   ]
  },
  {
   "cell_type": "code",
   "execution_count": 15,
   "metadata": {},
   "outputs": [
    {
     "name": "stdout",
     "output_type": "stream",
     "text": [
      "decision boundary = 1.25\n"
     ]
    },
    {
     "data": {
      "image/png": "[encoded data removed]",
      "text/plain": [
       "<Figure size 640x480 with 1 Axes>"
      ]
     },
     "metadata": {},
     "output_type": "display_data"
    }
   ],
   "source": [
    "w = np.array([8, -10])\n",
    "b = show_logistic(w)\n",
    "print(f'decision boundary = {np.round(b, 2)}')\n",
    "\n",
    "plt.grid()\n",
    "plt.show()"
   ]
  },
  {
   "cell_type": "markdown",
   "metadata": {},
   "source": [
    "## 6.1.5 交差エントロピー誤差"
   ]
  },
  {
   "cell_type": "markdown",
   "metadata": {},
   "source": [
    "担当　5.7-5.8\n",
    "\n",
    "5.6-6.1.5まで"
   ]
  },
  {
   "cell_type": "markdown",
   "metadata": {},
   "source": [
    "## 6.1.6 学習則の導出"
   ]
  },
  {
   "cell_type": "code",
   "execution_count": null,
   "metadata": {},
   "outputs": [],
   "source": []
  },
  {
   "cell_type": "markdown",
   "metadata": {},
   "source": [
    "## 6.1.7 "
   ]
  },
  {
   "cell_type": "markdown",
   "metadata": {},
   "source": [
    "担当 6.1.7\n",
    "範囲 6.1.6-6.2.2\n",
    "8/1 6.3.1-6.3.2"
   ]
  }
 ],
 "metadata": {
  "kernelspec": {
   "display_name": "py39",
   "language": "python",
   "name": "python3"
  },
  "language_info": {
   "codemirror_mode": {
    "name": "ipython",
    "version": 3
   },
   "file_extension": ".py",
   "mimetype": "text/x-python",
   "name": "python",
   "nbconvert_exporter": "python",
   "pygments_lexer": "ipython3",
   "version": "3.9.16"
  },
  "orig_nbformat": 4
 },
 "nbformat": 4,
 "nbformat_minor": 2
}
