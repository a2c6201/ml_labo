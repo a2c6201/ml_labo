{
 "cells": [
  {
   "cell_type": "markdown",
   "metadata": {
    "vscode": {
     "languageId": "plaintext"
    }
   },
   "source": [
    "# 7章　ニューラルネットワーク・ディープラーニング"
   ]
  },
  {
   "cell_type": "markdown",
   "metadata": {},
   "source": [
    "1. 機械学習の種類３つ\n",
    "2. 教師あり学習の基本\n",
    "3. 単層パーセプトロン、ニューラルネットワーク、ディープラーニングの違い"
   ]
  },
  {
   "cell_type": "markdown",
   "metadata": {},
   "source": [
    "# 7.1 ニューロンモデル"
   ]
  },
  {
   "cell_type": "markdown",
   "metadata": {},
   "source": [
    "## 7.1.1 神経細胞\n",
    "### 神経細胞が電気信号を送る仕組み\n",
    "脳の中などの神経細胞は、軸索というケーブル（木の枝）のようなものでつながっていて、軸索からシナプスという継ぎ目を伝って電気信号を別の神経細胞に送る。\\\n",
    "ある神経細胞に送られてきた電気が細胞内に膜電位（細胞内の電位）として溜まっていき、一定値を超えるとまた次の神経細胞に電気が送られる。\n",
    "\n",
    "### シナプスの仕組み\n",
    "どれだけの電気信号を送るかは、シナプス伝達強度というもので決まる。\\\n",
    "\n",
    "- シナプス伝達強度が機械学習でいう重み\\\n",
    "- 神経細胞一つ一つが機械学習でいうノード"
   ]
  },
  {
   "cell_type": "markdown",
   "metadata": {},
   "source": [
    "## 7.2.2 ニューロンモデル"
   ]
  },
  {
   "cell_type": "markdown",
   "metadata": {},
   "source": [
    "説明変数２つあるとして、それらに重みをかけて総和を取り、0〜1の間の値で出力するニューロンモデルを考える。\\\n",
    "\n",
    "説明変数が2つあるから、入力総和を図示すると平面になる。\\\n",
    "これをシグモイド関数に通すから出力を0〜1に押しつぶした形になる。"
   ]
  },
  {
   "cell_type": "markdown",
   "metadata": {},
   "source": [
    "範囲　6.3.3 - 7.1.2 OpenCV C-1 - C-2 \\\n",
    "担当　7.0 - 7.1.1とOpenCV C-1\n",
    "\n",
    "8/8 c-3 - c-5"
   ]
  }
 ],
 "metadata": {
  "kernelspec": {
   "display_name": "py39",
   "language": "python",
   "name": "python3"
  },
  "language_info": {
   "codemirror_mode": {
    "name": "ipython",
    "version": 3
   },
   "file_extension": ".py",
   "mimetype": "text/x-python",
   "name": "python",
   "nbconvert_exporter": "python",
   "pygments_lexer": "ipython3",
   "version": "3.9.16"
  },
  "orig_nbformat": 4
 },
 "nbformat": 4,
 "nbformat_minor": 2
}
