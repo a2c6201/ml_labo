{
 "cells": [
  {
   "cell_type": "code",
   "execution_count": null,
   "metadata": {
    "vscode": {
     "languageId": "plaintext"
    }
   },
   "outputs": [],
   "source": [
    "# ニューラルネットワーク"
   ]
  },
  {
   "cell_type": "markdown",
   "metadata": {},
   "source": [
    "範囲　6.3.3 - 7.1.2 OpenCV C-1 - C-2 \\\n",
    "担当　7.0 - 7.1.1とOpenCV C-1\n",
    "\n",
    "8/8 c-3 - c-5"
   ]
  }
 ],
 "metadata": {
  "language_info": {
   "name": "python"
  },
  "orig_nbformat": 4
 },
 "nbformat": 4,
 "nbformat_minor": 2
}
