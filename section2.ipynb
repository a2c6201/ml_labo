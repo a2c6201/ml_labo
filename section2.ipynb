{
 "cells": [
  {
   "cell_type": "code",
   "execution_count": 9,
   "id": "06ba668f",
   "metadata": {},
   "outputs": [],
   "source": [
    "import tensorflow as tf"
   ]
  },
  {
   "cell_type": "code",
   "execution_count": 10,
   "id": "92ee9c71",
   "metadata": {},
   "outputs": [
    {
     "name": "stdout",
     "output_type": "stream",
     "text": [
      "2.4.0-rc0\n"
     ]
    }
   ],
   "source": [
    "print(tf.version.VERSION)"
   ]
  },
  {
   "cell_type": "code",
   "execution_count": 11,
   "id": "ca7e4664",
   "metadata": {},
   "outputs": [
    {
     "name": "stdout",
     "output_type": "stream",
     "text": [
      "x= 0.67, y= 0.33\n"
     ]
    }
   ],
   "source": [
    "x=2/3\n",
    "y=1/3\n",
    "print(f'x={x: .2f}, y={y: .2f}')"
   ]
  },
  {
   "cell_type": "markdown",
   "id": "4ba73a41",
   "metadata": {},
   "source": [
    "range型とタプル型はlistと違い書き変えられない"
   ]
  },
  {
   "cell_type": "code",
   "execution_count": 12,
   "id": "4ef7497c",
   "metadata": {},
   "outputs": [
    {
     "name": "stdout",
     "output_type": "stream",
     "text": [
      "range(0, 5)\n"
     ]
    }
   ],
   "source": [
    "y = range(5)\n",
    "print(y)"
   ]
  },
  {
   "cell_type": "code",
   "execution_count": 13,
   "id": "e5386443",
   "metadata": {},
   "outputs": [],
   "source": [
    "# z = list(range)"
   ]
  },
  {
   "cell_type": "code",
   "execution_count": 14,
   "id": "43453ab1",
   "metadata": {},
   "outputs": [
    {
     "name": "stdout",
     "output_type": "stream",
     "text": [
      "0 3\n"
     ]
    }
   ],
   "source": [
    "z = range(5)\n",
    "print(z[0], z[3])"
   ]
  },
  {
   "cell_type": "markdown",
   "id": "9ca5e933",
   "metadata": {},
   "source": [
    "## 2.9 ベクトル\n",
    "Numpy\n",
    "Pythonでベクトルと行列を扱うライブラリ"
   ]
  },
  {
   "cell_type": "code",
   "execution_count": 15,
   "id": "652b1166",
   "metadata": {},
   "outputs": [],
   "source": [
    "import numpy as np"
   ]
  },
  {
   "cell_type": "code",
   "execution_count": 16,
   "id": "b4cf0e16",
   "metadata": {},
   "outputs": [
    {
     "data": {
      "text/plain": [
       "array([1, 2])"
      ]
     },
     "execution_count": 16,
     "metadata": {},
     "output_type": "execute_result"
    }
   ],
   "source": [
    "# ベクトルの定義の仕方\n",
    "x = np.array([1, 2])\n",
    "x"
   ]
  },
  {
   "cell_type": "code",
   "execution_count": 17,
   "id": "ff8340fc",
   "metadata": {},
   "outputs": [
    {
     "name": "stdout",
     "output_type": "stream",
     "text": [
      "[1, 2]+[3, 4]=[1, 2, 3, 4]\n",
      "[4 6]\n"
     ]
    },
    {
     "data": {
      "text/plain": [
       "numpy.ndarray"
      ]
     },
     "execution_count": 17,
     "metadata": {},
     "output_type": "execute_result"
    }
   ],
   "source": [
    "# ベクトル同士の足し算はNumPyを使わないとできない\n",
    "a = [1, 2] + [3, 4]\n",
    "print(f'[1, 2]+[3, 4]={a}')\n",
    "\n",
    "# NumPyの使い方\n",
    "x = np.array([1, 2])\n",
    "y = np.array([3, 4])\n",
    "print(x+y)\n",
    "\n",
    "type(x)"
   ]
  },
  {
   "cell_type": "markdown",
   "id": "66a54fa8",
   "metadata": {},
   "source": [
    "要素の参照・書き換えはリスト型同様"
   ]
  },
  {
   "cell_type": "code",
   "execution_count": 18,
   "id": "3da5ec28",
   "metadata": {},
   "outputs": [
    {
     "name": "stdout",
     "output_type": "stream",
     "text": [
      "np.arange(10) = [0 1 2 3 4 5 6 7 8 9]\n",
      "np.arange(5, 10) = [5 6 7 8 9]\n"
     ]
    }
   ],
   "source": [
    "# 連続した整数ベクトルの作成\n",
    "print(f'np.arange(10) = {np.arange(10)}')\n",
    "print(f'np.arange(5, 10) = {np.arange(5, 10)}')"
   ]
  },
  {
   "cell_type": "markdown",
   "id": "90247a15",
   "metadata": {},
   "source": [
    "### ndarrayの注意点\n",
    "b = a\n",
    "だとbにはaの保存先の参照が渡される（中身）\n",
    "つまりbを変更するとaも変更される　///\n",
    "b = a.copy()とする ///\n",
    "\n",
    "list型でも同様のことが起こるから　///\n",
    "b = copy.deepcopy(a)とする"
   ]
  },
  {
   "cell_type": "markdown",
   "id": "edcd65de",
   "metadata": {},
   "source": [
    "## 2.10 行列\n",
    "何行何列かと言うことを、行列のサイズという"
   ]
  },
  {
   "cell_type": "code",
   "execution_count": 19,
   "id": "2eb5d723",
   "metadata": {},
   "outputs": [
    {
     "name": "stdout",
     "output_type": "stream",
     "text": [
      "(2, 3)\n",
      "()で囲まれているからタプル型\n"
     ]
    }
   ],
   "source": [
    "x = np.array([[1, 2, 3], [4, 5, 6]])\n",
    "print(x.shape)\n",
    "print('()で囲まれているからタプル型')"
   ]
  },
  {
   "cell_type": "code",
   "execution_count": 20,
   "id": "83d756d8",
   "metadata": {},
   "outputs": [
    {
     "name": "stdout",
     "output_type": "stream",
     "text": [
      "[0 1 2 3 4 5 6 7 8 9]\n"
     ]
    }
   ],
   "source": [
    "# 行列のサイズの変更\n",
    "a = np.arange(10)\n",
    "print(a)"
   ]
  },
  {
   "cell_type": "code",
   "execution_count": 21,
   "id": "23585215",
   "metadata": {},
   "outputs": [
    {
     "name": "stdout",
     "output_type": "stream",
     "text": [
      "[[0 1 2 3 4]\n",
      " [5 6 7 8 9]]\n"
     ]
    }
   ],
   "source": [
    "a = a.reshape(2, 5)\n",
    "print(a)"
   ]
  },
  {
   "cell_type": "code",
   "execution_count": 22,
   "id": "eca5b826",
   "metadata": {},
   "outputs": [
    {
     "name": "stdout",
     "output_type": "stream",
     "text": [
      "[0 1 2 3 4 5 6 7 8 9]\n",
      "[0 1 2 3 4 5 6 7 8 9]\n"
     ]
    }
   ],
   "source": [
    "# 要素を元に戻す\n",
    "b = a.reshape(10)\n",
    "print(b)\n",
    "\n",
    "# もしくは　こっちの方が要素数を調べなくていいので便利\n",
    "c = a.reshape(-1)\n",
    "print(c)"
   ]
  },
  {
   "cell_type": "markdown",
   "id": "fd306d8f",
   "metadata": {},
   "source": [
    "## 2.10.7 行列やベクトルの連結"
   ]
  },
  {
   "cell_type": "markdown",
   "id": "327089df",
   "metadata": {},
   "source": [
    "### 行列\n",
    "横に連結するには np.c_[]"
   ]
  },
  {
   "cell_type": "code",
   "execution_count": 23,
   "id": "9c966e7f",
   "metadata": {},
   "outputs": [
    {
     "name": "stdout",
     "output_type": "stream",
     "text": [
      "[[  1   2 100 200]\n",
      " [  3   4   3   4]]\n"
     ]
    }
   ],
   "source": [
    "x0 = np.array([[1, 2], [3, 4]])\n",
    "x1 = np.array([[100, 200], [3, 4]])\n",
    "\n",
    "y = np.c_[x0, x1]\n",
    "print(y)"
   ]
  },
  {
   "cell_type": "markdown",
   "id": "5856a801",
   "metadata": {},
   "source": [
    "縦に連結するにはnp.r_[]"
   ]
  },
  {
   "cell_type": "code",
   "execution_count": 24,
   "id": "ba1d7a34",
   "metadata": {},
   "outputs": [
    {
     "name": "stdout",
     "output_type": "stream",
     "text": [
      "[[  1   2]\n",
      " [  3   4]\n",
      " [100 200]\n",
      " [  3   4]]\n"
     ]
    }
   ],
   "source": [
    "y = np.r_[x0, x1]\n",
    "print(y)"
   ]
  },
  {
   "cell_type": "markdown",
   "id": "57e191e0",
   "metadata": {},
   "source": [
    "### ベクトル\n",
    "ベクトルを立てベクトルとして解釈し、横に連結"
   ]
  },
  {
   "cell_type": "code",
   "execution_count": 26,
   "id": "b73c2868",
   "metadata": {},
   "outputs": [
    {
     "name": "stdout",
     "output_type": "stream",
     "text": [
      "[[  1 100]\n",
      " [  2 200]\n",
      " [  3 300]]\n"
     ]
    }
   ],
   "source": [
    "# ベクトルの定義\n",
    "v0 = np.array([1, 2, 3])\n",
    "v1 = np.array([100, 200, 300])\n",
    "z = np.c_[v0, v1]\n",
    "print(z)"
   ]
  },
  {
   "cell_type": "markdown",
   "id": "ba0f6e23",
   "metadata": {},
   "source": [
    "## 2.11 行列の演算"
   ]
  },
  {
   "cell_type": "code",
   "execution_count": null,
   "id": "ce961253",
   "metadata": {},
   "outputs": [],
   "source": []
  }
 ],
 "metadata": {
  "kernelspec": {
   "display_name": "Python 3.8.16 ('python38')",
   "language": "python",
   "name": "python3"
  },
  "language_info": {
   "codemirror_mode": {
    "name": "ipython",
    "version": 3
   },
   "file_extension": ".py",
   "mimetype": "text/x-python",
   "name": "python",
   "nbconvert_exporter": "python",
   "pygments_lexer": "ipython3",
   "version": "3.8.16"
  },
  "vscode": {
   "interpreter": {
    "hash": "cf3aa0bffeea93ff83d13802fe7be8b6c4c146d00d4ac171237431777d5e8300"
   }
  }
 },
 "nbformat": 4,
 "nbformat_minor": 5
}
