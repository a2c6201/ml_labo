{
 "cells": [
  {
   "cell_type": "code",
   "execution_count": 9,
   "id": "06ba668f",
   "metadata": {},
   "outputs": [],
   "source": [
    "import tensorflow as tf"
   ]
  },
  {
   "cell_type": "code",
   "execution_count": 10,
   "id": "92ee9c71",
   "metadata": {},
   "outputs": [
    {
     "name": "stdout",
     "output_type": "stream",
     "text": [
      "2.4.0-rc0\n"
     ]
    }
   ],
   "source": [
    "print(tf.version.VERSION)"
   ]
  },
  {
   "cell_type": "code",
   "execution_count": 11,
   "id": "ca7e4664",
   "metadata": {},
   "outputs": [
    {
     "name": "stdout",
     "output_type": "stream",
     "text": [
      "x= 0.67, y= 0.33\n"
     ]
    }
   ],
   "source": [
    "x=2/3\n",
    "y=1/3\n",
    "print(f'x={x: .2f}, y={y: .2f}')"
   ]
  },
  {
   "cell_type": "markdown",
   "id": "4ba73a41",
   "metadata": {},
   "source": [
    "range型とタプル型はlistと違い書き変えられない"
   ]
  },
  {
   "cell_type": "code",
   "execution_count": 12,
   "id": "4ef7497c",
   "metadata": {},
   "outputs": [
    {
     "name": "stdout",
     "output_type": "stream",
     "text": [
      "range(0, 5)\n"
     ]
    }
   ],
   "source": [
    "y = range(5)\n",
    "print(y)"
   ]
  },
  {
   "cell_type": "code",
   "execution_count": 13,
   "id": "e5386443",
   "metadata": {},
   "outputs": [],
   "source": [
    "# z = list(range)"
   ]
  },
  {
   "cell_type": "code",
   "execution_count": 14,
   "id": "43453ab1",
   "metadata": {},
   "outputs": [
    {
     "name": "stdout",
     "output_type": "stream",
     "text": [
      "0 3\n"
     ]
    }
   ],
   "source": [
    "z = range(5)\n",
    "print(z[0], z[3])"
   ]
  },
  {
   "cell_type": "markdown",
   "id": "9ca5e933",
   "metadata": {},
   "source": [
    "## 2.9 ベクトル\n",
    "Numpy\n",
    "Pythonでベクトルと行列を扱うライブラリ"
   ]
  },
  {
   "cell_type": "code",
   "execution_count": 15,
   "id": "652b1166",
   "metadata": {},
   "outputs": [],
   "source": [
    "import numpy as np"
   ]
  },
  {
   "cell_type": "code",
   "execution_count": 16,
   "id": "b4cf0e16",
   "metadata": {},
   "outputs": [
    {
     "data": {
      "text/plain": [
       "array([1, 2])"
      ]
     },
     "execution_count": 16,
     "metadata": {},
     "output_type": "execute_result"
    }
   ],
   "source": [
    "# ベクトルの定義の仕方\n",
    "x = np.array([1, 2])\n",
    "x"
   ]
  },
  {
   "cell_type": "code",
   "execution_count": 17,
   "id": "ff8340fc",
   "metadata": {},
   "outputs": [
    {
     "name": "stdout",
     "output_type": "stream",
     "text": [
      "[1, 2]+[3, 4]=[1, 2, 3, 4]\n",
      "[4 6]\n"
     ]
    },
    {
     "data": {
      "text/plain": [
       "numpy.ndarray"
      ]
     },
     "execution_count": 17,
     "metadata": {},
     "output_type": "execute_result"
    }
   ],
   "source": [
    "# ベクトル同士の足し算はNumPyを使わないとできない\n",
    "a = [1, 2] + [3, 4]\n",
    "print(f'[1, 2]+[3, 4]={a}')\n",
    "\n",
    "# NumPyの使い方\n",
    "x = np.array([1, 2])\n",
    "y = np.array([3, 4])\n",
    "print(x+y)\n",
    "\n",
    "type(x)"
   ]
  },
  {
   "cell_type": "markdown",
   "id": "66a54fa8",
   "metadata": {},
   "source": [
    "要素の参照・書き換えはリスト型同様"
   ]
  },
  {
   "cell_type": "code",
   "execution_count": 18,
   "id": "3da5ec28",
   "metadata": {},
   "outputs": [
    {
     "name": "stdout",
     "output_type": "stream",
     "text": [
      "np.arange(10) = [0 1 2 3 4 5 6 7 8 9]\n",
      "np.arange(5, 10) = [5 6 7 8 9]\n"
     ]
    }
   ],
   "source": [
    "# 連続した整数ベクトルの作成\n",
    "print(f'np.arange(10) = {np.arange(10)}')\n",
    "print(f'np.arange(5, 10) = {np.arange(5, 10)}')"
   ]
  },
  {
   "cell_type": "markdown",
   "id": "90247a15",
   "metadata": {},
   "source": [
    "### ndarrayの注意点\n",
    "b = a\n",
    "だとbにはaの保存先の参照が渡される（中身）\n",
    "つまりbを変更するとaも変更される \\\n",
    "b = a.copy()とする \n",
    "\n",
    "list型でも同様のことが起こるから　\\\n",
    "b = copy.deepcopy(a)とする"
   ]
  },
  {
   "cell_type": "markdown",
   "id": "edcd65de",
   "metadata": {},
   "source": [
    "## 2.10 行列\n",
    "何行何列かと言うことを、行列のサイズという"
   ]
  },
  {
   "cell_type": "code",
   "execution_count": 19,
   "id": "2eb5d723",
   "metadata": {},
   "outputs": [
    {
     "name": "stdout",
     "output_type": "stream",
     "text": [
      "(2, 3)\n",
      "()で囲まれているからタプル型\n"
     ]
    }
   ],
   "source": [
    "x = np.array([[1, 2, 3], [4, 5, 6]])\n",
    "print(x.shape)\n",
    "print('()で囲まれているからタプル型')"
   ]
  },
  {
   "cell_type": "code",
   "execution_count": 20,
   "id": "83d756d8",
   "metadata": {},
   "outputs": [
    {
     "name": "stdout",
     "output_type": "stream",
     "text": [
      "[0 1 2 3 4 5 6 7 8 9]\n"
     ]
    }
   ],
   "source": [
    "# 行列のサイズの変更\n",
    "a = np.arange(10)\n",
    "print(a)"
   ]
  },
  {
   "cell_type": "code",
   "execution_count": 21,
   "id": "23585215",
   "metadata": {},
   "outputs": [
    {
     "name": "stdout",
     "output_type": "stream",
     "text": [
      "[[0 1 2 3 4]\n",
      " [5 6 7 8 9]]\n"
     ]
    }
   ],
   "source": [
    "a = a.reshape(2, 5)\n",
    "print(a)"
   ]
  },
  {
   "cell_type": "code",
   "execution_count": 22,
   "id": "eca5b826",
   "metadata": {},
   "outputs": [
    {
     "name": "stdout",
     "output_type": "stream",
     "text": [
      "[0 1 2 3 4 5 6 7 8 9]\n",
      "[0 1 2 3 4 5 6 7 8 9]\n"
     ]
    }
   ],
   "source": [
    "# 要素を元に戻す\n",
    "b = a.reshape(10)\n",
    "print(b)\n",
    "\n",
    "# もしくは　こっちの方が要素数を調べなくていいので便利\n",
    "c = a.reshape(-1)\n",
    "print(c)"
   ]
  },
  {
   "cell_type": "markdown",
   "id": "fd306d8f",
   "metadata": {},
   "source": [
    "## 2.10.7 行列やベクトルの連結"
   ]
  },
  {
   "cell_type": "markdown",
   "id": "327089df",
   "metadata": {},
   "source": [
    "### 行列\n",
    "横に連結するには np.c_[]"
   ]
  },
  {
   "cell_type": "code",
   "execution_count": 23,
   "id": "9c966e7f",
   "metadata": {},
   "outputs": [
    {
     "name": "stdout",
     "output_type": "stream",
     "text": [
      "[[  1   2 100 200]\n",
      " [  3   4   3   4]]\n"
     ]
    }
   ],
   "source": [
    "x0 = np.array([[1, 2], [3, 4]])\n",
    "x1 = np.array([[100, 200], [3, 4]])\n",
    "\n",
    "y = np.c_[x0, x1]\n",
    "print(y)"
   ]
  },
  {
   "cell_type": "markdown",
   "id": "5856a801",
   "metadata": {},
   "source": [
    "縦に連結するにはnp.r_[]"
   ]
  },
  {
   "cell_type": "code",
   "execution_count": 24,
   "id": "ba1d7a34",
   "metadata": {},
   "outputs": [
    {
     "name": "stdout",
     "output_type": "stream",
     "text": [
      "[[  1   2]\n",
      " [  3   4]\n",
      " [100 200]\n",
      " [  3   4]]\n"
     ]
    }
   ],
   "source": [
    "y = np.r_[x0, x1]\n",
    "print(y)"
   ]
  },
  {
   "cell_type": "markdown",
   "id": "57e191e0",
   "metadata": {},
   "source": [
    "### ベクトル\n",
    "ベクトルを立てベクトルとして解釈し、横に連結"
   ]
  },
  {
   "cell_type": "code",
   "execution_count": 26,
   "id": "b73c2868",
   "metadata": {},
   "outputs": [
    {
     "name": "stdout",
     "output_type": "stream",
     "text": [
      "[[  1 100]\n",
      " [  2 200]\n",
      " [  3 300]]\n"
     ]
    }
   ],
   "source": [
    "# ベクトルの定義\n",
    "v0 = np.array([1, 2, 3])\n",
    "v1 = np.array([100, 200, 300])\n",
    "z = np.c_[v0, v1]\n",
    "print(z)"
   ]
  },
  {
   "cell_type": "markdown",
   "id": "ba0f6e23",
   "metadata": {},
   "source": [
    "## 2.11 行列の演算"
   ]
  },
  {
   "cell_type": "markdown",
   "id": "64f3cbf6",
   "metadata": {},
   "source": [
    "### 算術関数\n",
    "平方根はnp.sqrt(x)\n",
    "\n",
    "他にもstd(標準偏差などがある)"
   ]
  },
  {
   "cell_type": "code",
   "execution_count": 30,
   "id": "ce961253",
   "metadata": {},
   "outputs": [
    {
     "name": "stdout",
     "output_type": "stream",
     "text": [
      "[[2. 2. 2.]\n",
      " [3. 3. 3.]]\n"
     ]
    }
   ],
   "source": [
    "x = np.array([[4, 4, 4], [9, 9, 9]])\n",
    "print(np.sqrt(x))"
   ]
  },
  {
   "cell_type": "markdown",
   "id": "c4fda7ce",
   "metadata": {},
   "source": [
    "### 行列積の計算"
   ]
  },
  {
   "cell_type": "code",
   "execution_count": 31,
   "id": "8cd479c4",
   "metadata": {},
   "outputs": [
    {
     "name": "stdout",
     "output_type": "stream",
     "text": [
      "[[14 14]\n",
      " [32 32]]\n"
     ]
    }
   ],
   "source": [
    "v = np.array([[1, 2, 3], [4, 5, 6]])\n",
    "w = np.array([[1, 1], [2, 2], [3, 3]])\n",
    "\n",
    "print(v @ w)"
   ]
  },
  {
   "cell_type": "markdown",
   "id": "83f98842",
   "metadata": {},
   "source": [
    "## 2.12 スライシング"
   ]
  },
  {
   "cell_type": "code",
   "execution_count": 34,
   "id": "6fa5876c",
   "metadata": {},
   "outputs": [
    {
     "name": "stdout",
     "output_type": "stream",
     "text": [
      "[2 4 6 8]\n"
     ]
    }
   ],
   "source": [
    "# 変数名[n1:n2:dn]とすると、dnおきに参照される\n",
    "x = np.arange(10)\n",
    "print(x[2:9:2])"
   ]
  },
  {
   "cell_type": "code",
   "execution_count": 36,
   "id": "036b5108",
   "metadata": {},
   "outputs": [
    {
     "name": "stdout",
     "output_type": "stream",
     "text": [
      "[9 8 7 6 5 4 3 2 1 0]\n"
     ]
    }
   ],
   "source": [
    "print(x[::-1])"
   ]
  },
  {
   "cell_type": "code",
   "execution_count": 40,
   "id": "c8858353",
   "metadata": {},
   "outputs": [
    {
     "name": "stdout",
     "output_type": "stream",
     "text": [
      "[[1 2 3]\n",
      " [4 5 6]\n",
      " [7 8 9]]\n",
      "[[4 5]\n",
      " [7 8]]\n"
     ]
    }
   ],
   "source": [
    "# 二次元以上のndarrayにも使える\n",
    "y = np.array([[1, 2, 3], [4, 5, 6], [7, 8, 9]])\n",
    "print(y)\n",
    "print(y[1:, 0:2])"
   ]
  },
  {
   "cell_type": "markdown",
   "id": "41ee1370",
   "metadata": {},
   "source": [
    "## 2.13 条件を満たすデータの書き換え"
   ]
  },
  {
   "cell_type": "code",
   "execution_count": 41,
   "id": "3194983f",
   "metadata": {},
   "outputs": [
    {
     "data": {
      "text/plain": [
       "array([False, False, False, False,  True,  True,  True])"
      ]
     },
     "execution_count": 41,
     "metadata": {},
     "output_type": "execute_result"
    }
   ],
   "source": [
    "x = np.array([1, 1, 2, 3, 5, 8, 13])\n",
    "x > 3"
   ]
  },
  {
   "cell_type": "code",
   "execution_count": 42,
   "id": "d3611be9",
   "metadata": {},
   "outputs": [
    {
     "data": {
      "text/plain": [
       "array([ 5,  8, 13])"
      ]
     },
     "execution_count": 42,
     "metadata": {},
     "output_type": "execute_result"
    }
   ],
   "source": [
    "x[x > 3]"
   ]
  },
  {
   "cell_type": "markdown",
   "id": "b6539fd2",
   "metadata": {},
   "source": [
    "## 2.14 HELP"
   ]
  },
  {
   "cell_type": "code",
   "execution_count": 44,
   "id": "49702da9",
   "metadata": {},
   "outputs": [
    {
     "name": "stdout",
     "output_type": "stream",
     "text": [
      "Help on built-in function randint:\n",
      "\n",
      "randint(...) method of numpy.random.mtrand.RandomState instance\n",
      "    randint(low, high=None, size=None, dtype=int)\n",
      "    \n",
      "    Return random integers from `low` (inclusive) to `high` (exclusive).\n",
      "    \n",
      "    Return random integers from the \"discrete uniform\" distribution of\n",
      "    the specified dtype in the \"half-open\" interval [`low`, `high`). If\n",
      "    `high` is None (the default), then results are from [0, `low`).\n",
      "    \n",
      "    .. note::\n",
      "        New code should use the ``integers`` method of a ``default_rng()``\n",
      "        instance instead; please see the :ref:`random-quick-start`.\n",
      "    \n",
      "    Parameters\n",
      "    ----------\n",
      "    low : int or array-like of ints\n",
      "        Lowest (signed) integers to be drawn from the distribution (unless\n",
      "        ``high=None``, in which case this parameter is one above the\n",
      "        *highest* such integer).\n",
      "    high : int or array-like of ints, optional\n",
      "        If provided, one above the largest (signed) integer to be drawn\n",
      "        from the distribution (see above for behavior if ``high=None``).\n",
      "        If array-like, must contain integer values\n",
      "    size : int or tuple of ints, optional\n",
      "        Output shape.  If the given shape is, e.g., ``(m, n, k)``, then\n",
      "        ``m * n * k`` samples are drawn.  Default is None, in which case a\n",
      "        single value is returned.\n",
      "    dtype : dtype, optional\n",
      "        Desired dtype of the result. Byteorder must be native.\n",
      "        The default value is int.\n",
      "    \n",
      "        .. versionadded:: 1.11.0\n",
      "    \n",
      "    Returns\n",
      "    -------\n",
      "    out : int or ndarray of ints\n",
      "        `size`-shaped array of random integers from the appropriate\n",
      "        distribution, or a single such random int if `size` not provided.\n",
      "    \n",
      "    See Also\n",
      "    --------\n",
      "    random_integers : similar to `randint`, only for the closed\n",
      "        interval [`low`, `high`], and 1 is the lowest value if `high` is\n",
      "        omitted.\n",
      "    Generator.integers: which should be used for new code.\n",
      "    \n",
      "    Examples\n",
      "    --------\n",
      "    >>> np.random.randint(2, size=10)\n",
      "    array([1, 0, 0, 0, 1, 1, 0, 0, 1, 0]) # random\n",
      "    >>> np.random.randint(1, size=10)\n",
      "    array([0, 0, 0, 0, 0, 0, 0, 0, 0, 0])\n",
      "    \n",
      "    Generate a 2 x 4 array of ints between 0 and 4, inclusive:\n",
      "    \n",
      "    >>> np.random.randint(5, size=(2, 4))\n",
      "    array([[4, 0, 2, 1], # random\n",
      "           [3, 2, 2, 0]])\n",
      "    \n",
      "    Generate a 1 x 3 array with 3 different upper bounds\n",
      "    \n",
      "    >>> np.random.randint(1, [3, 5, 10])\n",
      "    array([2, 2, 9]) # random\n",
      "    \n",
      "    Generate a 1 by 3 array with 3 different lower bounds\n",
      "    \n",
      "    >>> np.random.randint([1, 5, 7], 10)\n",
      "    array([9, 8, 7]) # random\n",
      "    \n",
      "    Generate a 2 by 4 array using broadcasting with dtype of uint8\n",
      "    \n",
      "    >>> np.random.randint([1, 3, 5, 7], [[10], [20]], dtype=np.uint8)\n",
      "    array([[ 8,  6,  9,  7], # random\n",
      "           [ 1, 16,  9, 12]], dtype=uint8)\n",
      "\n"
     ]
    }
   ],
   "source": [
    "help(np.random.randint)"
   ]
  },
  {
   "cell_type": "markdown",
   "id": "e08f2ba1",
   "metadata": {},
   "source": [
    "## 2.15\n",
    "2.15.3 位置引数とキーワード引数"
   ]
  },
  {
   "cell_type": "code",
   "execution_count": 46,
   "id": "87413250",
   "metadata": {},
   "outputs": [],
   "source": [
    "# 位置引数とキーワード引数を同時に使うこともでき\n",
    "# その場合位置引数を先に書く\n",
    "# func(1, gamma=3, beta=2)"
   ]
  },
  {
   "cell_type": "markdown",
   "id": "674cc739",
   "metadata": {},
   "source": [
    "## 2.16 ファイル保存\n",
    "1つのndarray型の保存"
   ]
  },
  {
   "cell_type": "code",
   "execution_count": 50,
   "id": "36fef617",
   "metadata": {},
   "outputs": [
    {
     "name": "stdout",
     "output_type": "stream",
     "text": [
      "[ 1  2  3  3  5  8 20]\n",
      "[]\n",
      "[ 1  2  3  3  5  8 20]\n"
     ]
    }
   ],
   "source": [
    "import numpy as np\n",
    "\n",
    "data = np.array([1, 2, 3, 3, 5, 8, 20])\n",
    "print(data)\n",
    "\n",
    "np.save(\"datafile.npy\", data)\n",
    "\n",
    "data = np.array([])\n",
    "print(data)\n",
    "\n",
    "data = np.load(\"datafile.npy\")\n",
    "print(data)"
   ]
  },
  {
   "cell_type": "markdown",
   "id": "deefa114",
   "metadata": {},
   "source": [
    "複数の型の保存\n",
    "np.savezを使う"
   ]
  },
  {
   "cell_type": "code",
   "execution_count": 53,
   "id": "e151a7e3",
   "metadata": {},
   "outputs": [
    {
     "name": "stdout",
     "output_type": "stream",
     "text": [
      "['x0', 'x1']\n",
      "[1 2 3]\n",
      "[10 20 30]\n"
     ]
    }
   ],
   "source": [
    "x0 = np.array([1, 2, 3])\n",
    "x1 = np.array([10, 20, 30])\n",
    "\n",
    "np.savez(\"datafile2.npz\", x0=x0, x1=x1)\n",
    "\n",
    "x0 = np.array([])\n",
    "x1 = np.array([])\n",
    "\n",
    "data = np.load(\"datafile2.npz\")\n",
    "\n",
    "print(data.files)  # 格納してる全変数名の表示\n",
    "\n",
    "x0 = data[\"x0\"]\n",
    "x1 = data[\"x1\"]\n",
    "\n",
    "print(x0)\n",
    "print(x1)"
   ]
  }
 ],
 "metadata": {
  "kernelspec": {
   "display_name": "Python 3.8.16 ('python38')",
   "language": "python",
   "name": "python3"
  },
  "language_info": {
   "codemirror_mode": {
    "name": "ipython",
    "version": 3
   },
   "file_extension": ".py",
   "mimetype": "text/x-python",
   "name": "python",
   "nbconvert_exporter": "python",
   "pygments_lexer": "ipython3",
   "version": "3.8.16"
  },
  "vscode": {
   "interpreter": {
    "hash": "cf3aa0bffeea93ff83d13802fe7be8b6c4c146d00d4ac171237431777d5e8300"
   }
  }
 },
 "nbformat": 4,
 "nbformat_minor": 5
}
