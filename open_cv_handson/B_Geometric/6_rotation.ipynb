{
 "cells": [
  {
   "attachments": {},
   "cell_type": "markdown",
   "metadata": {},
   "source": [
    "# 6.Rotation\n",
    "サイズを維持したまま回転する\n",
    "\n",
    "getRotationMatrix2Dを用いる \\\n",
    "https://qiita.com/shoku-pan/items/39284c0fa98cb0c47024"
   ]
  },
  {
   "cell_type": "code",
   "execution_count": 74,
   "metadata": {},
   "outputs": [],
   "source": [
    "import cv2\n",
    "import numpy as np\n",
    "\n",
    "img = cv2.imread('yahboom.jpg', 1)\n",
    "#cv2.imshow('src',img)\n",
    "imgInfo = img.shape\n",
    "height = imgInfo[0]\n",
    "width = imgInfo[1]\n",
    "matRotate = cv2.getRotationMatrix2D((height*0.5, width*0.5), 45, 1)     # mat rotate 1 center(回転中心) 2 angle（回転角度　正の数が反時計回り） 3 scale（拡大縮小の倍率）\n",
    "\n",
    "# 100*100 25\n",
    "dst = cv2.warpAffine(img, matRotate, (height,width))"
   ]
  },
  {
   "cell_type": "code",
   "execution_count": 75,
   "metadata": {},
   "outputs": [],
   "source": [
    "#bgr8 to jpeg format\n",
    "import enum\n",
    "import cv2\n",
    "\n",
    "def bgr8_to_jpeg(value, quality=75):\n",
    "    return bytes(cv2.imencode('.jpg', value)[1])"
   ]
  },
  {
   "cell_type": "code",
   "execution_count": 76,
   "metadata": {},
   "outputs": [
    {
     "data": {
      "application/vnd.jupyter.widget-view+json": {
       "model_id": "4b6214a1e47947e9b37c9d223a9292c3",
       "version_major": 2,
       "version_minor": 0
      },
      "text/plain": [
       "HBox(children=(Image(value=b'', format='jpg', height='200', width='400'), Image(value=b'', format='jpg', heigh…"
      ]
     },
     "metadata": {},
     "output_type": "display_data"
    }
   ],
   "source": [
    "import ipywidgets.widgets as widgets\n",
    "\n",
    "image_widget1 = widgets.Image(format='jpg', width=400, height=200)\n",
    "image_widget2 = widgets.Image(format='jpg', width=250, height=350)\n",
    "# create a horizontal box container to place the image widget next to each other\n",
    "image_container = widgets.HBox([image_widget1, image_widget2])\n",
    "\n",
    "# display the container in this cell's output\n",
    "display(image_container)\n",
    "#display(image_widget2)\n",
    "\n",
    "# img1 = cv2.imread('image0.jpg',1)ここいらない\n",
    "\n",
    "image_widget1.value = bgr8_to_jpeg(img)\n",
    "image_widget2.value = bgr8_to_jpeg(dst)"
   ]
  },
  {
   "cell_type": "code",
   "execution_count": 77,
   "metadata": {},
   "outputs": [
    {
     "data": {
      "application/vnd.jupyter.widget-view+json": {
       "model_id": "219c27f4dc6843439ff48c488c3a8719",
       "version_major": 2,
       "version_minor": 0
      },
      "text/plain": [
       "HBox(children=(Image(value=b'', format='jpg', height='200', width='400'), Image(value=b'', format='jpg', heigh…"
      ]
     },
     "metadata": {},
     "output_type": "display_data"
    }
   ],
   "source": [
    "theta = np.deg2rad(45)\n",
    "mat = np.float32([[np.cos(theta), -np.sin(theta), 0], [np.sin(theta), np.cos(theta), 0]])\n",
    "dst2 = cv2.warpAffine(img, mat, (width, height))\n",
    "\n",
    "image_widget1 = widgets.Image(format='jpg', width=400, height=200)\n",
    "image_widget2 = widgets.Image(format='jpg', width=350, height=450)\n",
    "# create a horizontal box container to place the image widget next to each other\n",
    "image_container = widgets.HBox([image_widget1, image_widget2])\n",
    "\n",
    "# display the container in this cell's output\n",
    "display(image_container)\n",
    "#display(image_widget2)\n",
    "\n",
    "image_widget1.value = bgr8_to_jpeg(img)\n",
    "image_widget2.value = bgr8_to_jpeg(dst2)"
   ]
  }
 ],
 "metadata": {
  "kernelspec": {
   "display_name": "py39",
   "language": "python",
   "name": "python3"
  },
  "language_info": {
   "codemirror_mode": {
    "name": "ipython",
    "version": 3
   },
   "file_extension": ".py",
   "mimetype": "text/x-python",
   "name": "python",
   "nbconvert_exporter": "python",
   "pygments_lexer": "ipython3",
   "version": "3.9.16"
  },
  "orig_nbformat": 4
 },
 "nbformat": 4,
 "nbformat_minor": 2
}
