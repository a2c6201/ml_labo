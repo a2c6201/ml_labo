{
 "cells": [
  {
   "attachments": {},
   "cell_type": "markdown",
   "metadata": {},
   "source": [
    "# 画像ミラーリング\n",
    "\n",
    "水平ミラーリング　→ 左右反転 \\\n",
    "垂直ミラーリング　→ 上下反転"
   ]
  },
  {
   "cell_type": "code",
   "execution_count": 36,
   "metadata": {},
   "outputs": [
    {
     "name": "stdout",
     "output_type": "stream",
     "text": [
      "(3024, 4032, 3)\n"
     ]
    }
   ],
   "source": [
    "import cv2\n",
    "import numpy as np\n",
    "\n",
    "img = cv2.imread('yahboom.jpg', 1)\n",
    "# cv2.imshow('src', img)\n",
    "imgInfo = img.shape     # (height, width, 色相数(RGB))のタプルを取得\n",
    "print(imgInfo)\n",
    "\n",
    "height = imgInfo[0]\n",
    "width = imgInfo[1]\n",
    "deep = imgInfo[2]\n",
    "\n",
    "newImgInfo = (height*2, width, deep)     # 反転した画像を写すために、高さを2倍にする(3024, 4032, 3)\n",
    "\n",
    "dst = np.zeros(newImgInfo, np.uint8)     # 第二引数でデータ型を指定　uint8: 0~255（8bit）の整数値をとる(RGBは256段階の数値で表されるから)\n",
    "\n",
    "# 上下反転\n",
    "for i in range(0, height):\n",
    "    for j in range(0, width):\n",
    "        dst[i, j] = img[i, j]     # 上半分にはそのままコピー\n",
    "        # x y = 2h - y -1\n",
    "        dst[height*2-i-1, j] = img[i, j]   # 下半分には上半分を反転してコピー\n",
    "\n",
    "# 軸に線を引く\n",
    "for i in range(0, width):\n",
    "    dst[height, i] = (255, 255, 255)"
   ]
  },
  {
   "cell_type": "code",
   "execution_count": 37,
   "metadata": {},
   "outputs": [],
   "source": [
    "#bgr8 to jpeg format\n",
    "import enum\n",
    "import cv2\n",
    "\n",
    "def bgr8_to_jpeg(value):\n",
    "    return bytes(cv2.imencode('.jpg', value)[1])\n",
    "\n",
    "# print(cv2.imencode('.jpg', img))\n",
    "# print(cv2.imencode('.jpg', img)[1])\n",
    "# print(cv2.imencode('.jpg', img)[0])"
   ]
  },
  {
   "cell_type": "code",
   "execution_count": 38,
   "metadata": {},
   "outputs": [
    {
     "data": {
      "application/vnd.jupyter.widget-view+json": {
       "model_id": "85d1258b7a424b0f97ca2c47a04b8f65",
       "version_major": 2,
       "version_minor": 0
      },
      "text/plain": [
       "Image(value=b'', format='jpg', height='400', width='300')"
      ]
     },
     "metadata": {},
     "output_type": "display_data"
    }
   ],
   "source": [
    "import ipywidgets.widgets as widgets\n",
    "image_widget1 = widgets.Image(format='jpg', width='300', height='400')\n",
    "\n",
    "# image_widget2 = widgets.Image(format='jpg', )\n",
    "# 画像ウィジェットを隣り合わせに配置するための水平ボックス・コンテナを作成する\n",
    "# image_container = widgets.HBox([image_widget1, image_widget2])\n",
    "# display the container in this cell's output\n",
    "\n",
    "display(image_widget1)\n",
    "# display(image_widget2)\n",
    "image_widget1.value = bgr8_to_jpeg(dst)"
   ]
  }
 ],
 "metadata": {
  "kernelspec": {
   "display_name": "torch",
   "language": "python",
   "name": "python3"
  },
  "language_info": {
   "codemirror_mode": {
    "name": "ipython",
    "version": 3
   },
   "file_extension": ".py",
   "mimetype": "text/x-python",
   "name": "python",
   "nbconvert_exporter": "python",
   "pygments_lexer": "ipython3",
   "version": "3.9.16"
  },
  "orig_nbformat": 4
 },
 "nbformat": 4,
 "nbformat_minor": 2
}
