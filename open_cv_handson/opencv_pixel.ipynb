{
 "cells": [
  {
   "cell_type": "code",
   "execution_count": 19,
   "metadata": {},
   "outputs": [
    {
     "name": "stdout",
     "output_type": "stream",
     "text": [
      "155 193 97\n"
     ]
    },
    {
     "data": {
      "application/vnd.jupyter.widget-view+json": {
       "model_id": "50ff009035104d7190a6e6415893634b",
       "version_major": 2,
       "version_minor": 0
      },
      "text/plain": [
       "HBox(children=(Image(value=b'', format='jpg', height='400', width='300'), Image(value=b'', format='jpg', heigh…"
      ]
     },
     "metadata": {},
     "output_type": "display_data"
    }
   ],
   "source": [
    "import cv2\n",
    "\n",
    "img = cv2.imread('yahboom.jpg',1)\n",
    "(b,g,r) = img[100,50]\n",
    "print(b,g,r)    # bgr\n",
    "#10 100 --- 110 100\n",
    "i=j=0\n",
    "for j in range(1,500):\n",
    "    for i in range(1,500):\n",
    "        img[i,j] = (255, 0, 0)  # 白く塗りつぶす\n",
    "\n",
    "# cv2.imshow('image',img)　# 画像表示\n",
    "# cv2.waitKey(0) #1000 ms   0は無限待ち　1は1ms待ち\n",
    "\n",
    "\n",
    "#bgr8 to jpeg format\n",
    "import enum\n",
    "import cv2\n",
    " \n",
    "def bgr8_to_jpeg(value, quality=75):\n",
    "    return bytes(cv2.imencode('.jpg', value)[1])\n",
    "\n",
    "\n",
    "import ipywidgets.widgets as widgets\n",
    "\n",
    "image_widget1 = widgets.Image(format='jpg', width=300, height=400) # 画像1\n",
    "image_widget2 = widgets.Image(format='jpg', width=300, height=400) # 画像2\n",
    "# create a horizontal box container to place the image widget next to each other\n",
    "image_container = widgets.HBox([image_widget1, image_widget2])\n",
    "\n",
    "# display the container in this cell's output\n",
    "display(image_container)\n",
    "\n",
    "img1 = cv2.imread('yahboom.jpg',1)\n",
    "image_widget1.value = bgr8_to_jpeg(img1)  #original picture\n",
    "image_widget2.value = bgr8_to_jpeg(img)   #Processed image"
   ]
  },
  {
   "cell_type": "code",
   "execution_count": 6,
   "metadata": {},
   "outputs": [],
   "source": []
  },
  {
   "cell_type": "code",
   "execution_count": null,
   "metadata": {},
   "outputs": [],
   "source": []
  }
 ],
 "metadata": {
  "kernelspec": {
   "display_name": "py39",
   "language": "python",
   "name": "python3"
  },
  "language_info": {
   "codemirror_mode": {
    "name": "ipython",
    "version": 3
   },
   "file_extension": ".py",
   "mimetype": "text/x-python",
   "name": "python",
   "nbconvert_exporter": "python",
   "pygments_lexer": "ipython3",
   "version": "3.9.16"
  },
  "orig_nbformat": 4
 },
 "nbformat": 4,
 "nbformat_minor": 2
}
