{
 "cells": [
  {
   "attachments": {},
   "cell_type": "markdown",
   "id": "4659f41d",
   "metadata": {},
   "source": [
    "### 参考URL\n",
    "http://www.yahboom.net/study/Dofbot-Pi"
   ]
  },
  {
   "cell_type": "code",
   "execution_count": 1,
   "id": "c0768e6b",
   "metadata": {},
   "outputs": [],
   "source": [
    "import cv2\n",
    "import enum "
   ]
  },
  {
   "cell_type": "code",
   "execution_count": 2,
   "id": "5de5f520",
   "metadata": {},
   "outputs": [],
   "source": [
    "img = cv2.imread('IMG_4776.jpg', 1) "
   ]
  },
  {
   "cell_type": "code",
   "execution_count": 3,
   "id": "f0906abd",
   "metadata": {},
   "outputs": [],
   "source": [
    "def bgr8_to_jpeg(value, quality=75): \n",
    "    return bytes(cv2.imencode('.jpg', value)[1])"
   ]
  },
  {
   "attachments": {},
   "cell_type": "markdown",
   "id": "7ad7dd7f",
   "metadata": {},
   "source": [
    "### 次回までにipywidgets調べておく"
   ]
  },
  {
   "cell_type": "code",
   "execution_count": 4,
   "id": "496191fd",
   "metadata": {},
   "outputs": [
    {
     "data": {
      "application/vnd.jupyter.widget-view+json": {
       "model_id": "a16adcd803b746adbd21294e59a42388",
       "version_major": 2,
       "version_minor": 0
      },
      "text/plain": [
       "Image(value=b'', format='jpg', height='800', width='500')"
      ]
     },
     "metadata": {},
     "output_type": "display_data"
    }
   ],
   "source": [
    "import ipywidgets.widgets as widgets\n",
    "image_widget = widgets.Image(format='jpg', width=500, height=800)\n",
    "\n",
    "display(image_widget)\n",
    "\n",
    "image_widget.value = bgr8_to_jpeg(img)"
   ]
  },
  {
   "cell_type": "code",
   "execution_count": 5,
   "id": "20fa9ce8",
   "metadata": {},
   "outputs": [
    {
     "data": {
      "text/plain": [
       "True"
      ]
     },
     "execution_count": 5,
     "metadata": {},
     "output_type": "execute_result"
    }
   ],
   "source": [
    "import cv2\n",
    "# パラメータは最大 4 つ、第 1 パラメータ：ファイルの読み込み、第 2 パラメータ：解析フォーマット解析、\n",
    "# 第 3 パラメータ：データデコード、第 4 パラメータ：データ読み込み\n",
    "\n",
    "img = cv2.imread('yahboom.jpg', 0)\n",
    "# cv2.imshow('yahboom, img)  \n",
    "cv2.imwrite('yahboom1.jpg', img) # 1 name 2 data"
   ]
  },
  {
   "cell_type": "code",
   "execution_count": 6,
   "id": "924ed916",
   "metadata": {},
   "outputs": [],
   "source": [
    "def bgr8_to_jpeg(value,quality=75): \n",
    "    return bytes(cv2.imencode('.jpg', value)[1])"
   ]
  },
  {
   "cell_type": "code",
   "execution_count": 7,
   "id": "c6478b53",
   "metadata": {},
   "outputs": [
    {
     "data": {
      "application/vnd.jupyter.widget-view+json": {
       "model_id": "be1139980f3448cd8fe5ccfaa247c002",
       "version_major": 2,
       "version_minor": 0
      },
      "text/plain": [
       "Image(value=b'', format='jpg', height='240', width='320')"
      ]
     },
     "metadata": {},
     "output_type": "display_data"
    }
   ],
   "source": [
    "import ipywidgets.widgets as widgets\n",
    " \n",
    "image_widget = widgets.Image(format='jpg', width=320, height=240)\n",
    "display(image_widget)\n",
    "img = cv2.imread('yahboom.jpg',1)\n",
    "image_widget.value = bgr8_to_jpeg(img)"
   ]
  },
  {
   "attachments": {},
   "cell_type": "markdown",
   "id": "4269e6ba",
   "metadata": {},
   "source": [
    "## 4. OpenCVの画質"
   ]
  },
  {
   "cell_type": "code",
   "execution_count": 8,
   "id": "75c11e4a",
   "metadata": {},
   "outputs": [
    {
     "data": {
      "text/plain": [
       "True"
      ]
     },
     "execution_count": 8,
     "metadata": {},
     "output_type": "execute_result"
    }
   ],
   "source": [
    "import cv2 \n",
    "img = cv2.imread('yahboom.jpg',1) \n",
    "cv2.imwrite('yahboomTest.jpg', img, [cv2.IMWRITE_JPEG_QUALITY, 50]) \n",
    "#1M 100k 10k 0-100 非可逆圧縮"
   ]
  },
  {
   "cell_type": "code",
   "execution_count": 9,
   "id": "1d0d3e37",
   "metadata": {},
   "outputs": [
    {
     "data": {
      "text/plain": [
       "True"
      ]
     },
     "execution_count": 9,
     "metadata": {},
     "output_type": "execute_result"
    }
   ],
   "source": [
    "# 1 非可逆圧縮、2 透明性属性\n",
    "import cv2 \n",
    "img = cv2.imread('yahboom.jpg',1) \n",
    "cv2.imwrite('yahboomTest.png', img, [cv2.IMWRITE_PNG_COMPRESSION, 50]) \n",
    "# jpg 0 高圧縮率0-100 png 0 低圧縮率 0-9"
   ]
  },
  {
   "cell_type": "code",
   "execution_count": 10,
   "id": "62d777da",
   "metadata": {},
   "outputs": [],
   "source": [
    "#bgr8 から jpeg 形式へ\n",
    "import enum \n",
    "import cv2 \n",
    " \n",
    "def bgr8_to_jpeg(value, quality=75): \n",
    "    return bytes(cv2.imencode('.jpg', value)[1])"
   ]
  },
  {
   "cell_type": "code",
   "execution_count": 11,
   "id": "ad5ae97f",
   "metadata": {},
   "outputs": [
    {
     "data": {
      "application/vnd.jupyter.widget-view+json": {
       "model_id": "80d34bd81ec64acea4f007e4fba1f81c",
       "version_major": 2,
       "version_minor": 0
      },
      "text/plain": [
       "HBox(children=(Image(value=b'', format='jpg', height='350', width='450'), Image(value=b'', format='jpg', heigh…"
      ]
     },
     "metadata": {},
     "output_type": "display_data"
    }
   ],
   "source": [
    "import ipywidgets.widgets as widgets\n",
    " \n",
    "image_widget1 = widgets.Image(format='jpg', width='450', height='350')\n",
    "image_widget2 = widgets.Image(format='jpg', width='450', height='350')\n",
    "\n",
    "# 画像ウィジェットを隣り合わせに配置するための水平ボックスコンテナを作成します\n",
    "image_container = widgets.HBox([image_widget1, image_widget2])\n",
    " \n",
    "# このセルの出力にコンテナを表示します\n",
    "display(image_container)\n",
    " \n",
    "img1 = cv2.imread('yahboomTest.jpg',1)\n",
    "img2 = cv2.imread('yahboomTest.png',1)\n",
    "image_widget1.value = bgr8_to_jpeg(img1)\n",
    "image_widget2.value = bgr8_to_jpeg(img2)"
   ]
  },
  {
   "cell_type": "code",
   "execution_count": null,
   "id": "6d40a524",
   "metadata": {},
   "outputs": [],
   "source": []
  }
 ],
 "metadata": {
  "kernelspec": {
   "display_name": "py39",
   "language": "python",
   "name": "python3"
  },
  "language_info": {
   "codemirror_mode": {
    "name": "ipython",
    "version": 3
   },
   "file_extension": ".py",
   "mimetype": "text/x-python",
   "name": "python",
   "nbconvert_exporter": "python",
   "pygments_lexer": "ipython3",
   "version": "3.9.16"
  }
 },
 "nbformat": 4,
 "nbformat_minor": 5
}
